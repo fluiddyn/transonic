{
 "cells": [
  {
   "cell_type": "code",
   "execution_count": 2,
   "metadata": {},
   "outputs": [
    {
     "name": "stderr",
     "output_type": "stream",
     "text": [
      "\u001b[32mINFO    \u001b[0m \u001b[34mSchedule pythranization of file /home/pierre/.transonic/pythran/__jit__/__ipython__889772ca85990a579df84a832376093a/test.py\u001b[0m\n"
     ]
    },
    {
     "name": "stdout",
     "output_type": "stream",
     "text": [
      "compile extension\n"
     ]
    },
    {
     "data": {
      "text/plain": [
       "('hello', 'world')"
      ]
     },
     "execution_count": 2,
     "metadata": {},
     "output_type": "execute_result"
    }
   ],
   "source": [
    "# Note that this has no effect on coverage :-(\n",
    "\n",
    "from pathlib import Path\n",
    "from time import sleep\n",
    "\n",
    "from transonic.backends import backends\n",
    "from transonic.config import backend_default\n",
    "from transonic.justintime import modules, make_hex\n",
    "from transonic.util import can_import_accelerator\n",
    "\n",
    "from transonic import jit, Type\n",
    "\n",
    "backend = backends[backend_default]\n",
    "path_jit = backend.jit.path_base\n",
    "\n",
    "compiler_importable = can_import_accelerator()\n",
    "\n",
    "src = \"\"\"T = Type(float, str)\n",
    "\n",
    "@jit\n",
    "def test(a: T):\n",
    "    return \"hello\", a\"\"\"\n",
    "\n",
    "hex_src = make_hex(src)\n",
    "module_name = \"__ipython__\" + hex_src\n",
    "path_dir = path_jit / module_name\n",
    "paths = path_dir.glob(\"*\")\n",
    "for path in paths:\n",
    "    path.unlink()\n",
    "\n",
    "hex_src\n",
    "\n",
    "T = Type(float, str)\n",
    "\n",
    "@jit\n",
    "def test(a: T):\n",
    "    return \"hello\", a\n",
    "\n",
    "if compiler_importable:\n",
    "    key, mod = list(modules.items())[0]\n",
    "    cjit = mod.jit_functions[\"test\"]\n",
    "    cjit.compiling\n",
    "\n",
    "test(1.)\n",
    "\n",
    "if compiler_importable:\n",
    "    cjit.compiling\n",
    "\n",
    "# if pythran:\n",
    "#    assert key == module_name, (key, module_name)\n",
    "\n",
    "if compiler_importable:\n",
    "    for _ in range(100):\n",
    "        test(1.)\n",
    "        sleep(0.1)\n",
    "        if not cjit.compiling:\n",
    "            break\n",
    "\n",
    "if compiler_importable:\n",
    "    cjit.compiling\n",
    "\n",
    "test(1.)\n",
    "\n",
    "test(\"world\")"
   ]
  }
 ],
 "metadata": {
  "kernelspec": {
   "display_name": "Python 3",
   "language": "python",
   "name": "python3"
  },
  "language_info": {
   "codemirror_mode": {
    "name": "ipython",
    "version": 3
   },
   "file_extension": ".py",
   "mimetype": "text/x-python",
   "name": "python",
   "nbconvert_exporter": "python",
   "pygments_lexer": "ipython3",
   "version": "3.7.2"
  }
 },
 "nbformat": 4,
 "nbformat_minor": 4
}
