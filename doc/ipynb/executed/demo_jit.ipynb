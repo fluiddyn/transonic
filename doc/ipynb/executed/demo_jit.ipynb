{
 "cells": [
  {
   "cell_type": "markdown",
   "metadata": {},
   "source": [
    "## IPython + jit decorator\n",
    "\n",
    "Let's say that we have this kind of code:"
   ]
  },
  {
   "cell_type": "code",
   "execution_count": 1,
   "metadata": {},
   "outputs": [],
   "source": [
    "import numpy as np"
   ]
  },
  {
   "cell_type": "code",
   "execution_count": 2,
   "metadata": {},
   "outputs": [],
   "source": [
    "image = np.random.rand(1024, 1024)"
   ]
  },
  {
   "cell_type": "code",
   "execution_count": 3,
   "metadata": {},
   "outputs": [],
   "source": [
    "def laplace(image):\n",
    "    \"\"\"Laplace operator in NumPy for 2D images.\"\"\"\n",
    "    laplacian = (\n",
    "        image[:-2, 1:-1] + image[2:, 1:-1] + image[1:-1, :-2] + image[1:-1, 2:]\n",
    "        - 4*image[1:-1, 1:-1]\n",
    "    )\n",
    "    thresh = np.abs(laplacian) > 0.05\n",
    "    return thresh"
   ]
  },
  {
   "cell_type": "markdown",
   "metadata": {},
   "source": [
    "We can define a jitted function in IPython (and Jupyter, which uses IPython). The only limitation is that everything needed for the function (even `np`) has to be (re)defined in the same cell!"
   ]
  },
  {
   "cell_type": "code",
   "execution_count": 4,
   "metadata": {},
   "outputs": [],
   "source": [
    "import numpy as np\n",
    "from transonic import jit\n",
    "\n",
    "@jit\n",
    "def laplace_pythran(image):\n",
    "    \"\"\"Laplace operator in NumPy for 2D images.\"\"\"\n",
    "    laplacian = (\n",
    "        image[:-2, 1:-1] + image[2:, 1:-1] + image[1:-1, :-2] + image[1:-1, 2:]\n",
    "        - 4*image[1:-1, 1:-1]\n",
    "    )\n",
    "    thresh = np.abs(laplacian) > 0.05\n",
    "    return thresh"
   ]
  },
  {
   "cell_type": "markdown",
   "metadata": {},
   "source": [
    "We first call the function to launch the compilation (\"warmup the jit\"):"
   ]
  },
  {
   "cell_type": "code",
   "execution_count": 5,
   "metadata": {},
   "outputs": [
    {
     "name": "stderr",
     "output_type": "stream",
     "text": [
      "Schedule pythranization: laplace_pythran.py\n"
     ]
    }
   ],
   "source": [
    "result = laplace_pythran(image)"
   ]
  },
  {
   "cell_type": "markdown",
   "metadata": {},
   "source": [
    "Since the compilation is quit long, we explicitelly wait for the extension to benchmark the compiled version."
   ]
  },
  {
   "cell_type": "code",
   "execution_count": 6,
   "metadata": {},
   "outputs": [
    {
     "name": "stderr",
     "output_type": "stream",
     "text": [
      "Wait for all extensions\n"
     ]
    },
    {
     "name": "stdout",
     "output_type": "stream",
     "text": [
      "Pythranizing /home/pierre/.transonic/pythran/__jit__/__ipython__25970b035d85f309561968e246899d70/laplace_pythran.py\n",
      "File /home/pierre/.transonic/pythran/__jit__/__ipython__25970b035d85f309561968e246899d70/laplace_pythran_0e47d9b355b188b1feabdbf18fdee11f_8b9e99482f5d1fa6279790dd20e989ce.cpython-38-x86_64-linux-gnu.so created by pythran\n",
      "Pythran stdout:\n",
      "running build_ext\n",
      "new_compiler returns <class 'distutils.unixccompiler.UnixCCompiler'>\n",
      "building 'laplace_pythran_0e47d9b355b188b1feabdbf18fdee11f_8b9e99482f5d1fa6279790dd20e989ce' extension\n",
      "C compiler: clang++-10 -pthread -Wno-unused-result -Wsign-compare -DNDEBUG -g -fwrapv -O2 -Wall -g -fstack-protector-strong -Wformat -Werror=format-security -g -fwrapv -O2 -g -fstack-protector-strong -Wformat -Werror=format-security -Wdate-time -D_FORTIFY_SOURCE=2 -fPIC\n",
      "\n",
      "creating /tmp/tmprbjl4zn8/tmp\n",
      "compile options: '-DENABLE_PYTHON_MODULE -D__PYTHRAN__=3 -DPYTHRAN_BLAS_BLAS -I/home/pierre/.virtualenvs/env_transonic/lib/python3.8/site-packages/pythran -I/home/pierre/.virtualenvs/env_transonic/lib/python3.8/site-packages/pythran/pythonic/patch -I/home/pierre/.virtualenvs/env_transonic/lib/python3.8/site-packages/numpy/core/include -I/usr/local/include -I/usr/include -I/home/pierre/.virtualenvs/env_transonic/include -I/home/pierre/.virtualenvs/env_transonic/include -I/usr/include/python3.8 -c'\n",
      "extra options: '-std=c++11 -fno-math-errno -fvisibility=hidden -fno-wrapv -Wno-unused-function -Wno-int-in-bool-context -Wno-unknown-warning-option'\n",
      "clang++-10: /tmp/tmpy3_hv2a9.cpp\n",
      "clang++-10 -pthread -shared -Wl,-O1 -Wl,-Bsymbolic-functions -Wl,-Bsymbolic-functions -Wl,-z,relro -g -fwrapv -O2 -Wl,-Bsymbolic-functions -Wl,-z,relro -g -fwrapv -O2 -g -fstack-protector-strong -Wformat -Werror=format-security -Wdate-time -D_FORTIFY_SOURCE=2 /tmp/tmprbjl4zn8/tmp/tmpy3_hv2a9.o -lblas -lblas -o /tmp/tmp82ptmtbu/laplace_pythran_0e47d9b355b188b1feabdbf18fdee11f_8b9e99482f5d1fa6279790dd20e989ce.cpython-38-x86_64-linux-gnu.so -fvisibility=hidden -Wl,-strip-all\n",
      "\n"
     ]
    },
    {
     "name": "stderr",
     "output_type": "stream",
     "text": [
      "Pythran stderr:\n",
      "INFO:      sys file exists: /home/pierre/.virtualenvs/env_transonic/lib/python3.8/site-packages/pythran/pythran.cfg\n",
      "INFO: platform file exists: /home/pierre/.virtualenvs/env_transonic/lib/python3.8/site-packages/pythran/pythran-linux.cfg\n",
      "INFO:     user file exists: /home/pierre/.pythranrc\n",
      "INFO: pythranrc section [pythran] is valid and options are correct\n",
      "INFO: pythranrc section [typing] is valid and options are correct\n",
      "INFO: pythranrc section [compiler] is valid and options are correct\n",
      "INFO: Generated module: laplace_pythran_0e47d9b355b188b1feabdbf18fdee11f_8b9e99482f5d1fa6279790dd20e989ce\n",
      "INFO: Output: laplace_pythran_0e47d9b355b188b1feabdbf18fdee11f_8b9e99482f5d1fa6279790dd20e989ce.tmp\n",
      "\n"
     ]
    }
   ],
   "source": [
    "from transonic import wait_for_all_extensions\n",
    "wait_for_all_extensions()"
   ]
  },
  {
   "cell_type": "markdown",
   "metadata": {},
   "source": [
    "Now, let's benchmark the 2 functions:"
   ]
  },
  {
   "cell_type": "code",
   "execution_count": 7,
   "metadata": {},
   "outputs": [
    {
     "name": "stdout",
     "output_type": "stream",
     "text": [
      "laplace                          :     1 * norm\n",
      "norm = 0.0101 s\n",
      "laplace_pythran                  : 0.116 * norm\n",
      "\n",
      "It corresponds to a speedup of ~ 8.6!\n"
     ]
    }
   ],
   "source": [
    "from transonic.util import timeit_verbose\n",
    "\n",
    "namespace = {\"laplace\": laplace, \"laplace_pythran\": laplace_pythran, \"image\": image}\n",
    "\n",
    "norm = timeit_verbose(\"laplace(image)\", globals=namespace)\n",
    "time_pythran = timeit_verbose(\"laplace_pythran(image)\", globals=namespace, norm=norm)\n",
    "print(f\"\\nIt corresponds to a speedup of ~ {norm/time_pythran:.1f}!\")"
   ]
  }
 ],
 "metadata": {
  "kernelspec": {
   "display_name": "Python 3 (ipykernel)",
   "language": "python",
   "name": "python3"
  },
  "language_info": {
   "codemirror_mode": {
    "name": "ipython",
    "version": 3
   },
   "file_extension": ".py",
   "mimetype": "text/x-python",
   "name": "python",
   "nbconvert_exporter": "python",
   "pygments_lexer": "ipython3",
   "version": "3.8.10"
  }
 },
 "nbformat": 4,
 "nbformat_minor": 4
}
